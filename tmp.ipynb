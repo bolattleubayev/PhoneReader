{
 "cells": [
  {
   "cell_type": "code",
   "execution_count": null,
   "metadata": {},
   "outputs": [],
   "source": []
  }
 ],
 "metadata": {
  "kernelspec": {
   "display_name": "Python 3.6.13",
   "language": "python",
   "name": "python3"
  },
  "language_info": {
   "name": "python",
   "version": "3.6.13"
  },
  "orig_nbformat": 4,
  "vscode": {
   "interpreter": {
    "hash": "d6fb3a0f058394cfbf23c48e28ea14db6e239a9edec9567576e7e07a95506cfd"
   }
  }
 },
 "nbformat": 4,
 "nbformat_minor": 2
}
